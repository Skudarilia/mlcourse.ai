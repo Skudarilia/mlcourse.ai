{
 "cells": [
  {
   "cell_type": "code",
   "execution_count": 1,
   "metadata": {},
   "outputs": [],
   "source": [
    "import numpy as np\n",
    "import pandas as pd\n",
    "pd.set_option('display.max.columns', 50)\n",
    "from matplotlib import pyplot as plt\n",
    "import seaborn as sns\n",
    "sns.set()"
   ]
  },
  {
   "cell_type": "code",
   "execution_count": 2,
   "metadata": {},
   "outputs": [],
   "source": [
    "df = pd.read_csv(r'C:\\Users\\mi\\MLcourse\\mlcourse.ai\\data\\ltv_prediction_demo_data.csv')"
   ]
  },
  {
   "cell_type": "code",
   "execution_count": 3,
   "metadata": {},
   "outputs": [
    {
     "data": {
      "text/html": [
       "<div>\n",
       "<style scoped>\n",
       "    .dataframe tbody tr th:only-of-type {\n",
       "        vertical-align: middle;\n",
       "    }\n",
       "\n",
       "    .dataframe tbody tr th {\n",
       "        vertical-align: top;\n",
       "    }\n",
       "\n",
       "    .dataframe thead th {\n",
       "        text-align: right;\n",
       "    }\n",
       "</style>\n",
       "<table border=\"1\" class=\"dataframe\">\n",
       "  <thead>\n",
       "    <tr style=\"text-align: right;\">\n",
       "      <th></th>\n",
       "      <th>Unnamed: 0</th>\n",
       "      <th>idApp</th>\n",
       "      <th>dt</th>\n",
       "      <th>ltvDay1</th>\n",
       "      <th>ltvDay2</th>\n",
       "      <th>ltvDay3</th>\n",
       "      <th>ltvDay4</th>\n",
       "      <th>ltvDay5</th>\n",
       "      <th>ltvDay6</th>\n",
       "      <th>ltvDay7</th>\n",
       "      <th>ltvDay8</th>\n",
       "      <th>ltvDay30</th>\n",
       "    </tr>\n",
       "  </thead>\n",
       "  <tbody>\n",
       "    <tr>\n",
       "      <th>0</th>\n",
       "      <td>0</td>\n",
       "      <td>279</td>\n",
       "      <td>2018-02-18</td>\n",
       "      <td>0</td>\n",
       "      <td>0</td>\n",
       "      <td>0</td>\n",
       "      <td>2190000</td>\n",
       "      <td>2190000</td>\n",
       "      <td>2190000</td>\n",
       "      <td>5780000</td>\n",
       "      <td>5780000</td>\n",
       "      <td>5780000</td>\n",
       "    </tr>\n",
       "    <tr>\n",
       "      <th>1</th>\n",
       "      <td>1</td>\n",
       "      <td>279</td>\n",
       "      <td>2018-04-20</td>\n",
       "      <td>0</td>\n",
       "      <td>0</td>\n",
       "      <td>0</td>\n",
       "      <td>0</td>\n",
       "      <td>0</td>\n",
       "      <td>0</td>\n",
       "      <td>0</td>\n",
       "      <td>0</td>\n",
       "      <td>0</td>\n",
       "    </tr>\n",
       "    <tr>\n",
       "      <th>2</th>\n",
       "      <td>2</td>\n",
       "      <td>5620</td>\n",
       "      <td>2017-09-28</td>\n",
       "      <td>0</td>\n",
       "      <td>0</td>\n",
       "      <td>0</td>\n",
       "      <td>0</td>\n",
       "      <td>0</td>\n",
       "      <td>0</td>\n",
       "      <td>0</td>\n",
       "      <td>0</td>\n",
       "      <td>0</td>\n",
       "    </tr>\n",
       "    <tr>\n",
       "      <th>3</th>\n",
       "      <td>3</td>\n",
       "      <td>279</td>\n",
       "      <td>2017-12-11</td>\n",
       "      <td>0</td>\n",
       "      <td>0</td>\n",
       "      <td>0</td>\n",
       "      <td>0</td>\n",
       "      <td>0</td>\n",
       "      <td>0</td>\n",
       "      <td>0</td>\n",
       "      <td>3652414</td>\n",
       "      <td>12123190</td>\n",
       "    </tr>\n",
       "    <tr>\n",
       "      <th>4</th>\n",
       "      <td>4</td>\n",
       "      <td>5620</td>\n",
       "      <td>2018-02-06</td>\n",
       "      <td>1490000</td>\n",
       "      <td>1490000</td>\n",
       "      <td>1490000</td>\n",
       "      <td>1490000</td>\n",
       "      <td>1490000</td>\n",
       "      <td>1490000</td>\n",
       "      <td>1490000</td>\n",
       "      <td>1490000</td>\n",
       "      <td>1490000</td>\n",
       "    </tr>\n",
       "    <tr>\n",
       "      <th>...</th>\n",
       "      <td>...</td>\n",
       "      <td>...</td>\n",
       "      <td>...</td>\n",
       "      <td>...</td>\n",
       "      <td>...</td>\n",
       "      <td>...</td>\n",
       "      <td>...</td>\n",
       "      <td>...</td>\n",
       "      <td>...</td>\n",
       "      <td>...</td>\n",
       "      <td>...</td>\n",
       "      <td>...</td>\n",
       "    </tr>\n",
       "    <tr>\n",
       "      <th>3324145</th>\n",
       "      <td>3324145</td>\n",
       "      <td>278</td>\n",
       "      <td>2017-12-13</td>\n",
       "      <td>3810165</td>\n",
       "      <td>3810165</td>\n",
       "      <td>3810165</td>\n",
       "      <td>3810165</td>\n",
       "      <td>3810165</td>\n",
       "      <td>3810165</td>\n",
       "      <td>3810165</td>\n",
       "      <td>3810165</td>\n",
       "      <td>3810165</td>\n",
       "    </tr>\n",
       "    <tr>\n",
       "      <th>3324146</th>\n",
       "      <td>3324146</td>\n",
       "      <td>5620</td>\n",
       "      <td>2017-10-01</td>\n",
       "      <td>0</td>\n",
       "      <td>0</td>\n",
       "      <td>0</td>\n",
       "      <td>0</td>\n",
       "      <td>0</td>\n",
       "      <td>0</td>\n",
       "      <td>1490000</td>\n",
       "      <td>1490000</td>\n",
       "      <td>5960000</td>\n",
       "    </tr>\n",
       "    <tr>\n",
       "      <th>3324147</th>\n",
       "      <td>3324147</td>\n",
       "      <td>279</td>\n",
       "      <td>2018-03-24</td>\n",
       "      <td>218557101</td>\n",
       "      <td>218557101</td>\n",
       "      <td>218557101</td>\n",
       "      <td>218557101</td>\n",
       "      <td>218557101</td>\n",
       "      <td>218557101</td>\n",
       "      <td>218557101</td>\n",
       "      <td>218557101</td>\n",
       "      <td>218557101</td>\n",
       "    </tr>\n",
       "    <tr>\n",
       "      <th>3324148</th>\n",
       "      <td>3324148</td>\n",
       "      <td>5620</td>\n",
       "      <td>2018-05-27</td>\n",
       "      <td>2980000</td>\n",
       "      <td>2980000</td>\n",
       "      <td>2980000</td>\n",
       "      <td>2980000</td>\n",
       "      <td>2980000</td>\n",
       "      <td>2980000</td>\n",
       "      <td>2980000</td>\n",
       "      <td>2980000</td>\n",
       "      <td>2980000</td>\n",
       "    </tr>\n",
       "    <tr>\n",
       "      <th>3324149</th>\n",
       "      <td>3324149</td>\n",
       "      <td>5620</td>\n",
       "      <td>2017-12-30</td>\n",
       "      <td>0</td>\n",
       "      <td>0</td>\n",
       "      <td>0</td>\n",
       "      <td>0</td>\n",
       "      <td>0</td>\n",
       "      <td>0</td>\n",
       "      <td>0</td>\n",
       "      <td>0</td>\n",
       "      <td>0</td>\n",
       "    </tr>\n",
       "  </tbody>\n",
       "</table>\n",
       "<p>3324150 rows × 12 columns</p>\n",
       "</div>"
      ],
      "text/plain": [
       "         Unnamed: 0  idApp          dt    ltvDay1    ltvDay2    ltvDay3  \\\n",
       "0                 0    279  2018-02-18          0          0          0   \n",
       "1                 1    279  2018-04-20          0          0          0   \n",
       "2                 2   5620  2017-09-28          0          0          0   \n",
       "3                 3    279  2017-12-11          0          0          0   \n",
       "4                 4   5620  2018-02-06    1490000    1490000    1490000   \n",
       "...             ...    ...         ...        ...        ...        ...   \n",
       "3324145     3324145    278  2017-12-13    3810165    3810165    3810165   \n",
       "3324146     3324146   5620  2017-10-01          0          0          0   \n",
       "3324147     3324147    279  2018-03-24  218557101  218557101  218557101   \n",
       "3324148     3324148   5620  2018-05-27    2980000    2980000    2980000   \n",
       "3324149     3324149   5620  2017-12-30          0          0          0   \n",
       "\n",
       "           ltvDay4    ltvDay5    ltvDay6    ltvDay7    ltvDay8   ltvDay30  \n",
       "0          2190000    2190000    2190000    5780000    5780000    5780000  \n",
       "1                0          0          0          0          0          0  \n",
       "2                0          0          0          0          0          0  \n",
       "3                0          0          0          0    3652414   12123190  \n",
       "4          1490000    1490000    1490000    1490000    1490000    1490000  \n",
       "...            ...        ...        ...        ...        ...        ...  \n",
       "3324145    3810165    3810165    3810165    3810165    3810165    3810165  \n",
       "3324146          0          0          0    1490000    1490000    5960000  \n",
       "3324147  218557101  218557101  218557101  218557101  218557101  218557101  \n",
       "3324148    2980000    2980000    2980000    2980000    2980000    2980000  \n",
       "3324149          0          0          0          0          0          0  \n",
       "\n",
       "[3324150 rows x 12 columns]"
      ]
     },
     "execution_count": 3,
     "metadata": {},
     "output_type": "execute_result"
    }
   ],
   "source": [
    "df"
   ]
  },
  {
   "cell_type": "code",
   "execution_count": 6,
   "metadata": {},
   "outputs": [
    {
     "data": {
      "text/plain": [
       "Index(['Unnamed: 0', 'idApp', 'dt', 'ltvDay1', 'ltvDay2', 'ltvDay3', 'ltvDay4',\n",
       "       'ltvDay5', 'ltvDay6', 'ltvDay7', 'ltvDay8', 'ltvDay30'],\n",
       "      dtype='object')"
      ]
     },
     "execution_count": 6,
     "metadata": {},
     "output_type": "execute_result"
    }
   ],
   "source": [
    "df.columns"
   ]
  },
  {
   "cell_type": "code",
   "execution_count": 4,
   "metadata": {},
   "outputs": [
    {
     "data": {
      "text/plain": [
       "(3324150, 12)"
      ]
     },
     "execution_count": 4,
     "metadata": {},
     "output_type": "execute_result"
    }
   ],
   "source": [
    "df.shape"
   ]
  },
  {
   "cell_type": "code",
   "execution_count": 5,
   "metadata": {},
   "outputs": [
    {
     "data": {
      "text/plain": [
       "5620    1077387\n",
       "279      532735\n",
       "5619     484202\n",
       "278      282209\n",
       "313      221160\n",
       "Name: idApp, dtype: int64"
      ]
     },
     "execution_count": 5,
     "metadata": {},
     "output_type": "execute_result"
    }
   ],
   "source": [
    "df['idApp'].value_counts().head()"
   ]
  },
  {
   "cell_type": "code",
   "execution_count": 11,
   "metadata": {},
   "outputs": [],
   "source": [
    "features = ['ltvDay' + str(i) for i in range(1, 9)]"
   ]
  },
  {
   "cell_type": "code",
   "execution_count": 16,
   "metadata": {},
   "outputs": [],
   "source": [
    "X_train = df.loc[df['idApp'] == 5620, features + ['dt']]\n",
    "y_train = df.loc[df['idApp'] == 5620, 'ltvDay30']"
   ]
  },
  {
   "cell_type": "code",
   "execution_count": 17,
   "metadata": {},
   "outputs": [
    {
     "data": {
      "text/plain": [
       "(1077387, 9)"
      ]
     },
     "execution_count": 17,
     "metadata": {},
     "output_type": "execute_result"
    }
   ],
   "source": [
    "X_train.shape"
   ]
  },
  {
   "cell_type": "code",
   "execution_count": 18,
   "metadata": {},
   "outputs": [
    {
     "data": {
      "text/html": [
       "<div>\n",
       "<style scoped>\n",
       "    .dataframe tbody tr th:only-of-type {\n",
       "        vertical-align: middle;\n",
       "    }\n",
       "\n",
       "    .dataframe tbody tr th {\n",
       "        vertical-align: top;\n",
       "    }\n",
       "\n",
       "    .dataframe thead th {\n",
       "        text-align: right;\n",
       "    }\n",
       "</style>\n",
       "<table border=\"1\" class=\"dataframe\">\n",
       "  <thead>\n",
       "    <tr style=\"text-align: right;\">\n",
       "      <th></th>\n",
       "      <th>ltvDay1</th>\n",
       "      <th>ltvDay2</th>\n",
       "      <th>ltvDay3</th>\n",
       "      <th>ltvDay4</th>\n",
       "      <th>ltvDay5</th>\n",
       "      <th>ltvDay6</th>\n",
       "      <th>ltvDay7</th>\n",
       "      <th>ltvDay8</th>\n",
       "      <th>dt</th>\n",
       "    </tr>\n",
       "  </thead>\n",
       "  <tbody>\n",
       "    <tr>\n",
       "      <th>2</th>\n",
       "      <td>0</td>\n",
       "      <td>0</td>\n",
       "      <td>0</td>\n",
       "      <td>0</td>\n",
       "      <td>0</td>\n",
       "      <td>0</td>\n",
       "      <td>0</td>\n",
       "      <td>0</td>\n",
       "      <td>2017-09-28</td>\n",
       "    </tr>\n",
       "    <tr>\n",
       "      <th>4</th>\n",
       "      <td>1490000</td>\n",
       "      <td>1490000</td>\n",
       "      <td>1490000</td>\n",
       "      <td>1490000</td>\n",
       "      <td>1490000</td>\n",
       "      <td>1490000</td>\n",
       "      <td>1490000</td>\n",
       "      <td>1490000</td>\n",
       "      <td>2018-02-06</td>\n",
       "    </tr>\n",
       "    <tr>\n",
       "      <th>8</th>\n",
       "      <td>1490000</td>\n",
       "      <td>1490000</td>\n",
       "      <td>1490000</td>\n",
       "      <td>1490000</td>\n",
       "      <td>1490000</td>\n",
       "      <td>1490000</td>\n",
       "      <td>1490000</td>\n",
       "      <td>1490000</td>\n",
       "      <td>2018-02-08</td>\n",
       "    </tr>\n",
       "    <tr>\n",
       "      <th>9</th>\n",
       "      <td>0</td>\n",
       "      <td>1490000</td>\n",
       "      <td>1490000</td>\n",
       "      <td>1490000</td>\n",
       "      <td>1490000</td>\n",
       "      <td>1490000</td>\n",
       "      <td>1490000</td>\n",
       "      <td>1490000</td>\n",
       "      <td>2017-12-30</td>\n",
       "    </tr>\n",
       "    <tr>\n",
       "      <th>12</th>\n",
       "      <td>0</td>\n",
       "      <td>0</td>\n",
       "      <td>0</td>\n",
       "      <td>0</td>\n",
       "      <td>0</td>\n",
       "      <td>0</td>\n",
       "      <td>0</td>\n",
       "      <td>0</td>\n",
       "      <td>2018-02-25</td>\n",
       "    </tr>\n",
       "  </tbody>\n",
       "</table>\n",
       "</div>"
      ],
      "text/plain": [
       "    ltvDay1  ltvDay2  ltvDay3  ltvDay4  ltvDay5  ltvDay6  ltvDay7  ltvDay8  \\\n",
       "2         0        0        0        0        0        0        0        0   \n",
       "4   1490000  1490000  1490000  1490000  1490000  1490000  1490000  1490000   \n",
       "8   1490000  1490000  1490000  1490000  1490000  1490000  1490000  1490000   \n",
       "9         0  1490000  1490000  1490000  1490000  1490000  1490000  1490000   \n",
       "12        0        0        0        0        0        0        0        0   \n",
       "\n",
       "            dt  \n",
       "2   2017-09-28  \n",
       "4   2018-02-06  \n",
       "8   2018-02-08  \n",
       "9   2017-12-30  \n",
       "12  2018-02-25  "
      ]
     },
     "execution_count": 18,
     "metadata": {},
     "output_type": "execute_result"
    }
   ],
   "source": [
    "X_train.head()"
   ]
  },
  {
   "cell_type": "code",
   "execution_count": 19,
   "metadata": {},
   "outputs": [
    {
     "data": {
      "text/plain": [
       "('2017-07-05', '2018-06-18')"
      ]
     },
     "execution_count": 19,
     "metadata": {},
     "output_type": "execute_result"
    }
   ],
   "source": [
    "X_train['dt'].min(), X_train['dt'].max()"
   ]
  },
  {
   "cell_type": "code",
   "execution_count": 21,
   "metadata": {},
   "outputs": [
    {
     "data": {
      "text/html": [
       "<div>\n",
       "<style scoped>\n",
       "    .dataframe tbody tr th:only-of-type {\n",
       "        vertical-align: middle;\n",
       "    }\n",
       "\n",
       "    .dataframe tbody tr th {\n",
       "        vertical-align: top;\n",
       "    }\n",
       "\n",
       "    .dataframe thead th {\n",
       "        text-align: right;\n",
       "    }\n",
       "</style>\n",
       "<table border=\"1\" class=\"dataframe\">\n",
       "  <thead>\n",
       "    <tr style=\"text-align: right;\">\n",
       "      <th></th>\n",
       "      <th>ltvDay1</th>\n",
       "      <th>ltvDay2</th>\n",
       "      <th>ltvDay3</th>\n",
       "      <th>ltvDay4</th>\n",
       "      <th>ltvDay5</th>\n",
       "      <th>ltvDay6</th>\n",
       "      <th>ltvDay7</th>\n",
       "      <th>ltvDay8</th>\n",
       "      <th>dt</th>\n",
       "    </tr>\n",
       "  </thead>\n",
       "  <tbody>\n",
       "    <tr>\n",
       "      <th>3023494</th>\n",
       "      <td>1490000</td>\n",
       "      <td>1490000</td>\n",
       "      <td>1490000</td>\n",
       "      <td>1490000</td>\n",
       "      <td>1490000</td>\n",
       "      <td>1490000</td>\n",
       "      <td>1490000</td>\n",
       "      <td>1490000</td>\n",
       "      <td>2018-06-18</td>\n",
       "    </tr>\n",
       "    <tr>\n",
       "      <th>1372034</th>\n",
       "      <td>1490000</td>\n",
       "      <td>1490000</td>\n",
       "      <td>1490000</td>\n",
       "      <td>1490000</td>\n",
       "      <td>1490000</td>\n",
       "      <td>1490000</td>\n",
       "      <td>1490000</td>\n",
       "      <td>1490000</td>\n",
       "      <td>2018-06-18</td>\n",
       "    </tr>\n",
       "    <tr>\n",
       "      <th>2434174</th>\n",
       "      <td>0</td>\n",
       "      <td>0</td>\n",
       "      <td>0</td>\n",
       "      <td>0</td>\n",
       "      <td>0</td>\n",
       "      <td>0</td>\n",
       "      <td>0</td>\n",
       "      <td>0</td>\n",
       "      <td>2018-06-18</td>\n",
       "    </tr>\n",
       "    <tr>\n",
       "      <th>152650</th>\n",
       "      <td>7450000</td>\n",
       "      <td>7450000</td>\n",
       "      <td>7450000</td>\n",
       "      <td>7450000</td>\n",
       "      <td>7450000</td>\n",
       "      <td>7450000</td>\n",
       "      <td>7450000</td>\n",
       "      <td>7450000</td>\n",
       "      <td>2018-06-18</td>\n",
       "    </tr>\n",
       "    <tr>\n",
       "      <th>2627254</th>\n",
       "      <td>4470000</td>\n",
       "      <td>4470000</td>\n",
       "      <td>4470000</td>\n",
       "      <td>4470000</td>\n",
       "      <td>4470000</td>\n",
       "      <td>4470000</td>\n",
       "      <td>4470000</td>\n",
       "      <td>4470000</td>\n",
       "      <td>2018-06-18</td>\n",
       "    </tr>\n",
       "  </tbody>\n",
       "</table>\n",
       "</div>"
      ],
      "text/plain": [
       "         ltvDay1  ltvDay2  ltvDay3  ltvDay4  ltvDay5  ltvDay6  ltvDay7  \\\n",
       "3023494  1490000  1490000  1490000  1490000  1490000  1490000  1490000   \n",
       "1372034  1490000  1490000  1490000  1490000  1490000  1490000  1490000   \n",
       "2434174        0        0        0        0        0        0        0   \n",
       "152650   7450000  7450000  7450000  7450000  7450000  7450000  7450000   \n",
       "2627254  4470000  4470000  4470000  4470000  4470000  4470000  4470000   \n",
       "\n",
       "         ltvDay8          dt  \n",
       "3023494  1490000  2018-06-18  \n",
       "1372034  1490000  2018-06-18  \n",
       "2434174        0  2018-06-18  \n",
       "152650   7450000  2018-06-18  \n",
       "2627254  4470000  2018-06-18  "
      ]
     },
     "execution_count": 21,
     "metadata": {},
     "output_type": "execute_result"
    }
   ],
   "source": [
    "X_train.sort_values(by='dt').tail()"
   ]
  },
  {
   "cell_type": "code",
   "execution_count": 22,
   "metadata": {},
   "outputs": [],
   "source": [
    "X_train_part = X_train.loc[X_train.dt <= '2017-12-01', features]\n",
    "X_valid = X_train.loc[X_train.dt >= '2018-01-01', features]\n",
    "y_train_part = y_train.loc[X_train.dt <= '2017-12-01']\n",
    "y_valid = y_train.loc[X_train.dt >= '2018-01-01']"
   ]
  },
  {
   "cell_type": "code",
   "execution_count": 23,
   "metadata": {},
   "outputs": [
    {
     "data": {
      "text/plain": [
       "((464504, 8), (482918, 8))"
      ]
     },
     "execution_count": 23,
     "metadata": {},
     "output_type": "execute_result"
    }
   ],
   "source": [
    "X_train_part.shape, X_valid.shape"
   ]
  },
  {
   "cell_type": "code",
   "execution_count": 24,
   "metadata": {},
   "outputs": [],
   "source": [
    "from sklearn.linear_model import Ridge"
   ]
  },
  {
   "cell_type": "code",
   "execution_count": 25,
   "metadata": {},
   "outputs": [],
   "source": [
    "ridge = Ridge(random_state=17)"
   ]
  },
  {
   "cell_type": "code",
   "execution_count": 27,
   "metadata": {},
   "outputs": [
    {
     "name": "stdout",
     "output_type": "stream",
     "text": [
      "Wall time: 108 ms\n"
     ]
    },
    {
     "data": {
      "text/plain": [
       "Ridge(random_state=17)"
      ]
     },
     "execution_count": 27,
     "metadata": {},
     "output_type": "execute_result"
    }
   ],
   "source": [
    "%%time\n",
    "ridge.fit(X_train_part, y_train_part)"
   ]
  },
  {
   "cell_type": "code",
   "execution_count": 28,
   "metadata": {},
   "outputs": [],
   "source": [
    "ridge_valid_pred = ridge.predict(X_valid)"
   ]
  },
  {
   "cell_type": "code",
   "execution_count": 31,
   "metadata": {},
   "outputs": [
    {
     "name": "stdout",
     "output_type": "stream",
     "text": [
      "Percentage error: 1.1976454523675906\n"
     ]
    }
   ],
   "source": [
    "error = ridge_valid_pred.sum() / y_valid.sum() - 1\n",
    "print(\"Percentage error: {}\".format(-100 * error))"
   ]
  },
  {
   "cell_type": "code",
   "execution_count": 32,
   "metadata": {},
   "outputs": [
    {
     "data": {
      "text/plain": [
       "0.2842431899884181"
      ]
     },
     "execution_count": 32,
     "metadata": {},
     "output_type": "execute_result"
    }
   ],
   "source": [
    "(df['ltvDay30'] == 0).mean()"
   ]
  },
  {
   "cell_type": "code",
   "execution_count": 33,
   "metadata": {},
   "outputs": [
    {
     "data": {
      "text/plain": [
       "0.3100882041457712"
      ]
     },
     "execution_count": 33,
     "metadata": {},
     "output_type": "execute_result"
    }
   ],
   "source": [
    "(y_train == 0).mean()"
   ]
  },
  {
   "cell_type": "code",
   "execution_count": 36,
   "metadata": {},
   "outputs": [
    {
     "name": "stdout",
     "output_type": "stream",
     "text": [
      "59\n",
      "36146\n",
      "0.4515852376473192\n",
      "73\n",
      "27033\n",
      "0.4154921762290534\n",
      "80\n",
      "694\n",
      "0.3631123919308357\n",
      "81\n",
      "567\n",
      "0.3915343915343915\n",
      "95\n",
      "129041\n",
      "0.802907603009896\n",
      "148\n",
      "1570\n",
      "0.21656050955414013\n",
      "150\n",
      "229\n",
      "0.3056768558951965\n",
      "151\n",
      "66\n",
      "0.3787878787878788\n",
      "152\n",
      "27755\n",
      "0.12696811385335977\n",
      "153\n",
      "71\n",
      "0.18309859154929578\n",
      "154\n",
      "102\n",
      "0.7745098039215687\n",
      "156\n",
      "48223\n",
      "0.26095431640503497\n",
      "157\n",
      "14035\n",
      "0.20014250089063057\n",
      "158\n",
      "1427\n",
      "0.26839523475823407\n",
      "159\n",
      "5752\n",
      "0.092663421418637\n",
      "160\n",
      "12427\n",
      "0.1886215498511306\n",
      "161\n",
      "2544\n",
      "0.3313679245283019\n",
      "162\n",
      "3941\n",
      "0.26211621415884295\n",
      "165\n",
      "2110\n",
      "0.0924170616113744\n",
      "166\n",
      "3113\n",
      "0.17635721169290075\n",
      "225\n",
      "4189\n",
      "0.07925519216996897\n",
      "236\n",
      "5\n",
      "0.0\n",
      "248\n",
      "8342\n",
      "0.06461280268520739\n",
      "255\n",
      "1\n",
      "1.0\n",
      "260\n",
      "988\n",
      "0.19331983805668015\n",
      "264\n",
      "1135\n",
      "0.24845814977973568\n",
      "278\n",
      "282209\n",
      "0.10289537186978445\n",
      "279\n",
      "532735\n",
      "0.12820820858400517\n",
      "289\n",
      "1418\n",
      "0.09167842031029619\n",
      "291\n",
      "8268\n",
      "0.38098693759071117\n",
      "292\n",
      "7712\n",
      "0.39535788381742737\n",
      "297\n",
      "768\n",
      "0.10807291666666667\n",
      "298\n",
      "658\n",
      "0.3343465045592705\n",
      "299\n",
      "3963\n",
      "0.09386828160484481\n",
      "300\n",
      "2113\n",
      "0.19403691433980122\n",
      "306\n",
      "1174\n",
      "0.37052810902896083\n",
      "313\n",
      "221160\n",
      "0.2979833604630132\n",
      "314\n",
      "166953\n",
      "0.2669254221247896\n",
      "343\n",
      "370\n",
      "0.3027027027027027\n",
      "344\n",
      "152\n",
      "0.3355263157894737\n",
      "5394\n",
      "132\n",
      "0.23484848484848486\n",
      "5444\n",
      "149\n",
      "0.26174496644295303\n",
      "5492\n",
      "100\n",
      "0.23\n",
      "5494\n",
      "1\n",
      "0.0\n",
      "5532\n",
      "559\n",
      "0.17889087656529518\n",
      "5548\n",
      "1\n",
      "0.0\n",
      "5570\n",
      "1\n",
      "0.0\n",
      "5592\n",
      "170\n",
      "0.37058823529411766\n",
      "5593\n",
      "94\n",
      "0.1595744680851064\n",
      "5601\n",
      "25\n",
      "0.0\n",
      "5603\n",
      "3051\n",
      "0.14487053425106522\n",
      "5619\n",
      "484202\n",
      "0.40680955468998475\n",
      "5620\n",
      "1077387\n",
      "0.3100882041457712\n",
      "5644\n",
      "53333\n",
      "0.15401346258414114\n",
      "5645\n",
      "115304\n",
      "0.2239037674321793\n",
      "5648\n",
      "322\n",
      "0.12111801242236025\n",
      "5650\n",
      "2897\n",
      "0.16396272005522955\n",
      "5671\n",
      "45\n",
      "0.06666666666666667\n",
      "5672\n",
      "107\n",
      "0.09345794392523364\n",
      "5673\n",
      "104\n",
      "0.15384615384615385\n",
      "5674\n",
      "146\n",
      "0.06164383561643835\n",
      "5675\n",
      "38\n",
      "0.10526315789473684\n",
      "5676\n",
      "8\n",
      "0.0\n",
      "5677\n",
      "106\n",
      "0.10377358490566038\n",
      "5679\n",
      "12\n",
      "0.0\n",
      "5680\n",
      "5\n",
      "0.2\n",
      "5681\n",
      "51\n",
      "0.058823529411764705\n",
      "5682\n",
      "52\n",
      "0.09615384615384616\n",
      "5683\n",
      "121\n",
      "0.04132231404958678\n",
      "5684\n",
      "409\n",
      "0.06601466992665037\n",
      "5686\n",
      "50\n",
      "0.1\n",
      "5687\n",
      "103\n",
      "0.02912621359223301\n",
      "5688\n",
      "3\n",
      "0.0\n",
      "5689\n",
      "14\n",
      "0.07142857142857142\n",
      "5690\n",
      "74\n",
      "0.08108108108108109\n",
      "5691\n",
      "35\n",
      "0.08571428571428572\n",
      "5692\n",
      "222\n",
      "0.08108108108108109\n",
      "5693\n",
      "15\n",
      "0.13333333333333333\n",
      "5694\n",
      "10\n",
      "0.0\n",
      "5695\n",
      "18\n",
      "0.0\n",
      "5696\n",
      "32\n",
      "0.0625\n",
      "5697\n",
      "39\n",
      "0.02564102564102564\n",
      "5698\n",
      "45\n",
      "0.1111111111111111\n",
      "5710\n",
      "240\n",
      "0.058333333333333334\n",
      "5724\n",
      "1350\n",
      "0.24888888888888888\n",
      "50032\n",
      "122\n",
      "0.05737704918032787\n",
      "50047\n",
      "2\n",
      "0.0\n",
      "50048\n",
      "45\n",
      "0.4666666666666667\n",
      "50049\n",
      "1\n",
      "1.0\n",
      "50065\n",
      "3104\n",
      "0.10856958762886598\n",
      "50130\n",
      "2821\n",
      "0.10280042538107054\n",
      "50131\n",
      "32\n",
      "0.1875\n",
      "50132\n",
      "1425\n",
      "0.6035087719298246\n",
      "50152\n",
      "16\n",
      "0.0\n",
      "50169\n",
      "28\n",
      "0.0\n",
      "50170\n",
      "32\n",
      "0.1875\n",
      "50186\n",
      "424\n",
      "0.10613207547169812\n",
      "50187\n",
      "1408\n",
      "0.13494318181818182\n",
      "50213\n",
      "5176\n",
      "0.18064142194744978\n",
      "50228\n",
      "147\n",
      "0.047619047619047616\n",
      "50245\n",
      "160\n",
      "0.0375\n",
      "50247\n",
      "21\n",
      "0.8095238095238095\n",
      "50248\n",
      "47\n",
      "0.9148936170212766\n",
      "50258\n",
      "52\n",
      "0.019230769230769232\n",
      "50265\n",
      "230\n",
      "0.02608695652173913\n",
      "50266\n",
      "101\n",
      "0.09900990099009901\n",
      "50269\n",
      "1436\n",
      "0.03203342618384401\n",
      "50274\n",
      "22\n",
      "0.09090909090909091\n",
      "50275\n",
      "26\n",
      "0.038461538461538464\n",
      "50302\n",
      "13\n",
      "0.0\n",
      "50324\n",
      "20\n",
      "0.0\n",
      "50328\n",
      "18\n",
      "0.1111111111111111\n",
      "50329\n",
      "62\n",
      "0.06451612903225806\n",
      "50356\n",
      "1\n",
      "0.0\n",
      "50357\n",
      "1\n",
      "1.0\n",
      "50387\n",
      "1610\n",
      "0.10248447204968944\n",
      "50388\n",
      "280\n",
      "0.16071428571428573\n",
      "50389\n",
      "120\n",
      "0.125\n",
      "50390\n",
      "61\n",
      "0.39344262295081966\n",
      "50391\n",
      "29\n",
      "0.0\n",
      "50412\n",
      "177\n",
      "0.0\n",
      "50419\n",
      "186\n",
      "0.6129032258064516\n",
      "50420\n",
      "134\n",
      "0.014925373134328358\n",
      "50421\n",
      "353\n",
      "0.025495750708215296\n",
      "50422\n",
      "280\n",
      "0.8607142857142858\n",
      "50423\n",
      "648\n",
      "0.006172839506172839\n",
      "50424\n",
      "529\n",
      "0.6011342155009451\n",
      "50425\n",
      "193\n",
      "0.0\n",
      "50426\n",
      "215\n",
      "0.7023255813953488\n",
      "50458\n",
      "1\n",
      "1.0\n"
     ]
    }
   ],
   "source": [
    "for id_app, sub_df in df.groupby('idApp'):\n",
    "    print(id_app)\n",
    "    print(sub_df.shape[0])\n",
    "    print((sub_df['ltvDay30'] == 0).mean())"
   ]
  },
  {
   "cell_type": "code",
   "execution_count": 39,
   "metadata": {},
   "outputs": [
    {
     "data": {
      "image/png": "[encoded data removed]",
      "text/plain": [
       "<Figure size 432x288 with 1 Axes>"
      ]
     },
     "metadata": {},
     "output_type": "display_data"
    }
   ],
   "source": [
    "df['ltvDay30'].hist();"
   ]
  },
  {
   "cell_type": "code",
   "execution_count": 38,
   "metadata": {},
   "outputs": [
    {
     "data": {
      "image/png": "[encoded data removed]",
      "text/plain": [
       "<Figure size 432x288 with 1 Axes>"
      ]
     },
     "metadata": {},
     "output_type": "display_data"
    }
   ],
   "source": [
    "df['ltvDay30'].apply(np.log1p).hist();"
   ]
  },
  {
   "cell_type": "code",
   "execution_count": 45,
   "metadata": {},
   "outputs": [
    {
     "data": {
      "image/png": "[encoded data removed]",
      "text/plain": [
       "<Figure size 432x288 with 1 Axes>"
      ]
     },
     "metadata": {},
     "output_type": "display_data"
    }
   ],
   "source": [
    "plt.hist(np.log1p(ridge_valid_pred), alpha=0.5, label='pred')\n",
    "plt.hist(np.log1p(y_valid), alpha=0.5, label='real')\n",
    "plt.legend();"
   ]
  },
  {
   "cell_type": "code",
   "execution_count": 41,
   "metadata": {},
   "outputs": [
    {
     "data": {
      "image/png": "[encoded data removed]",
      "text/plain": [
       "<Figure size 432x288 with 1 Axes>"
      ]
     },
     "metadata": {},
     "output_type": "display_data"
    }
   ],
   "source": [
    "plt.scatter(X_train['ltvDay8'], y_train);"
   ]
  },
  {
   "cell_type": "code",
   "execution_count": null,
   "metadata": {},
   "outputs": [],
   "source": []
  }
 ],
 "metadata": {
  "kernelspec": {
   "display_name": "Python 3",
   "language": "python",
   "name": "python3"
  },
  "language_info": {
   "codemirror_mode": {
    "name": "ipython",
    "version": 3
   },
   "file_extension": ".py",
   "mimetype": "text/x-python",
   "name": "python",
   "nbconvert_exporter": "python",
   "pygments_lexer": "ipython3",
   "version": "3.8.5"
  }
 },
 "nbformat": 4,
 "nbformat_minor": 4
}

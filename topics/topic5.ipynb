{
 "cells": [
  {
   "cell_type": "code",
   "execution_count": 1,
   "metadata": {},
   "outputs": [],
   "source": [
    "import numpy as np\n",
    "import pandas as pd\n",
    "import itertools\n",
    "from matplotlib import pyplot as plt"
   ]
  },
  {
   "cell_type": "code",
   "execution_count": 2,
   "metadata": {},
   "outputs": [],
   "source": [
    "import pickle"
   ]
  },
  {
   "cell_type": "code",
   "execution_count": 16,
   "metadata": {},
   "outputs": [],
   "source": [
    "df = pd.read_pickle(r'C:\\Users\\mi\\MLcourse\\mlcourse.ai\\data\\mobile_app_launches_sessions_payments.pkl')"
   ]
  },
  {
   "cell_type": "code",
   "execution_count": 20,
   "metadata": {},
   "outputs": [
    {
     "data": {
      "text/plain": [
       "{'X_train':          sessions1  sessions2  sessions3  sessions4  sessions5  sessions6  \\\n",
       " 941782           1          1         19         31         61        109   \n",
       " 466960           1          5          5          5          5          5   \n",
       " 704609           6         24         39         46         61         66   \n",
       " 973929           8         18         33         45         52         62   \n",
       " 973936           0          0          0          0          0          0   \n",
       " ...            ...        ...        ...        ...        ...        ...   \n",
       " 856396           2          2          2          2          2          2   \n",
       " 1169917          0          0          0          0          1          1   \n",
       " 1048916          4         35         42         47         71         78   \n",
       " 992719           2          2          2          2          2          2   \n",
       " 426086           2          2          2          2          2          2   \n",
       " \n",
       "          sessions7  sessions8  launches1  launches2  ...  num_payments7  \\\n",
       " 941782         136        147          1          1  ...              0   \n",
       " 466960           5          5          1          6  ...              0   \n",
       " 704609          68         68          6         24  ...              0   \n",
       " 973929          69         71          8         18  ...              0   \n",
       " 973936           0          0          1          1  ...              0   \n",
       " ...            ...        ...        ...        ...  ...            ...   \n",
       " 856396           2          2          3          3  ...              0   \n",
       " 1169917          1          1          0          0  ...              0   \n",
       " 1048916         81         85          4         35  ...              0   \n",
       " 992719           2          2          3          3  ...              0   \n",
       " 426086           2          2          3          3  ...              0   \n",
       " \n",
       "          num_payments8  sum_payments1  sum_payments2  sum_payments3  \\\n",
       " 941782               0              0              0              0   \n",
       " 466960               0              0              0              0   \n",
       " 704609               0              0              0              0   \n",
       " 973929               0              0              0              0   \n",
       " 973936               0              0              0              0   \n",
       " ...                ...            ...            ...            ...   \n",
       " 856396               0              0              0              0   \n",
       " 1169917              0              0              0              0   \n",
       " 1048916              0              0              0              0   \n",
       " 992719               0              0              0              0   \n",
       " 426086               0              0              0              0   \n",
       " \n",
       "          sum_payments4  sum_payments5  sum_payments6  sum_payments7  \\\n",
       " 941782               0              0              0              0   \n",
       " 466960               0              0              0              0   \n",
       " 704609               0              0              0              0   \n",
       " 973929               0              0              0              0   \n",
       " 973936               0              0              0              0   \n",
       " ...                ...            ...            ...            ...   \n",
       " 856396               0              0              0              0   \n",
       " 1169917              0              0              0              0   \n",
       " 1048916              0              0              0              0   \n",
       " 992719               0              0              0              0   \n",
       " 426086               0              0              0              0   \n",
       " \n",
       "          sum_payments8  \n",
       " 941782               0  \n",
       " 466960               0  \n",
       " 704609               0  \n",
       " 973929               0  \n",
       " 973936               0  \n",
       " ...                ...  \n",
       " 856396               0  \n",
       " 1169917              0  \n",
       " 1048916              0  \n",
       " 992719               0  \n",
       " 426086               0  \n",
       " \n",
       " [824480 rows x 32 columns],\n",
       " 'y_train': 941782     0\n",
       " 466960     0\n",
       " 704609     0\n",
       " 973929     0\n",
       " 973936     0\n",
       "           ..\n",
       " 856396     0\n",
       " 1169917    0\n",
       " 1048916    0\n",
       " 992719     0\n",
       " 426086     0\n",
       " Name: ltvDay90, Length: 824480, dtype: int64,\n",
       " 'X_valid':          sessions1  sessions2  sessions3  sessions4  sessions5  sessions6  \\\n",
       " 594554           3          3          3          3          3          3   \n",
       " 911371           2          2          2          2          2          2   \n",
       " 287620           1          1          1          1          1          1   \n",
       " 432585           0          6         13         14         15         15   \n",
       " 432251           0          0          0          0          0          0   \n",
       " ...            ...        ...        ...        ...        ...        ...   \n",
       " 726730           4          4          4          4          4          4   \n",
       " 726737           1          1          1          1          1          1   \n",
       " 726738           1          1          1          1          1          1   \n",
       " 1091082          2          4          8         15         23         27   \n",
       " 1097427          1          1          1          1          1          1   \n",
       " \n",
       "          sessions7  sessions8  launches1  launches2  ...  num_payments7  \\\n",
       " 594554           3          3          4          4  ...              0   \n",
       " 911371           2          2          2          2  ...              0   \n",
       " 287620           1          1          2          2  ...              0   \n",
       " 432585          16         16          0          6  ...              0   \n",
       " 432251           0          0          1          1  ...              0   \n",
       " ...            ...        ...        ...        ...  ...            ...   \n",
       " 726730           4          4          4          5  ...              0   \n",
       " 726737           1          1          2          2  ...              0   \n",
       " 726738           1          1          2          2  ...              0   \n",
       " 1091082         35         37          2          4  ...              0   \n",
       " 1097427          1          1          2          2  ...              0   \n",
       " \n",
       "          num_payments8  sum_payments1  sum_payments2  sum_payments3  \\\n",
       " 594554               0              0              0              0   \n",
       " 911371               0              0              0              0   \n",
       " 287620               0              0              0              0   \n",
       " 432585               0              0              0              0   \n",
       " 432251               0              0              0              0   \n",
       " ...                ...            ...            ...            ...   \n",
       " 726730               0              0              0              0   \n",
       " 726737               0              0              0              0   \n",
       " 726738               0              0              0              0   \n",
       " 1091082              0              0              0              0   \n",
       " 1097427              0              0              0              0   \n",
       " \n",
       "          sum_payments4  sum_payments5  sum_payments6  sum_payments7  \\\n",
       " 594554               0              0              0              0   \n",
       " 911371               0              0              0              0   \n",
       " 287620               0              0              0              0   \n",
       " 432585               0              0              0              0   \n",
       " 432251               0              0              0              0   \n",
       " ...                ...            ...            ...            ...   \n",
       " 726730               0              0              0              0   \n",
       " 726737               0              0              0              0   \n",
       " 726738               0              0              0              0   \n",
       " 1091082              0              0              0              0   \n",
       " 1097427              0              0              0              0   \n",
       " \n",
       "          sum_payments8  \n",
       " 594554               0  \n",
       " 911371               0  \n",
       " 287620               0  \n",
       " 432585               0  \n",
       " 432251               0  \n",
       " ...                ...  \n",
       " 726730               0  \n",
       " 726737               0  \n",
       " 726738               0  \n",
       " 1091082              0  \n",
       " 1097427              0  \n",
       " \n",
       " [353349 rows x 32 columns],\n",
       " 'y_valid': 594554     0\n",
       " 911371     0\n",
       " 287620     0\n",
       " 432585     0\n",
       " 432251     0\n",
       "           ..\n",
       " 726730     0\n",
       " 726737     0\n",
       " 726738     0\n",
       " 1091082    0\n",
       " 1097427    0\n",
       " Name: ltvDay90, Length: 353349, dtype: int64}"
      ]
     },
     "execution_count": 20,
     "metadata": {},
     "output_type": "execute_result"
    }
   ],
   "source": [
    "df"
   ]
  },
  {
   "cell_type": "code",
   "execution_count": 35,
   "metadata": {},
   "outputs": [],
   "source": [
    "X_train = df['X_train']\n",
    "y_train = df['y_train']\n",
    "X_valid = df['X_valid']\n",
    "y_valid = df['y_valid']"
   ]
  },
  {
   "cell_type": "code",
   "execution_count": 34,
   "metadata": {},
   "outputs": [
    {
     "data": {
      "text/plain": [
       "0.0763147680962546"
      ]
     },
     "execution_count": 34,
     "metadata": {},
     "output_type": "execute_result"
    }
   ],
   "source": [
    "y_train.mean()"
   ]
  },
  {
   "cell_type": "code",
   "execution_count": 36,
   "metadata": {},
   "outputs": [],
   "source": [
    "from sklearn.ensemble import RandomForestClassifier\n",
    "from sklearn.linear_model import LogisticRegression"
   ]
  },
  {
   "cell_type": "code",
   "execution_count": 37,
   "metadata": {},
   "outputs": [],
   "source": [
    "forest = RandomForestClassifier(n_estimators=300, class_weight='balanced', n_jobs=4, random_state=17)"
   ]
  },
  {
   "cell_type": "code",
   "execution_count": 39,
   "metadata": {},
   "outputs": [
    {
     "name": "stdout",
     "output_type": "stream",
     "text": [
      "Wall time: 3min 16s\n"
     ]
    },
    {
     "data": {
      "text/plain": [
       "RandomForestClassifier(class_weight='balanced', n_estimators=300, n_jobs=4,\n",
       "                       random_state=17)"
      ]
     },
     "execution_count": 39,
     "metadata": {},
     "output_type": "execute_result"
    }
   ],
   "source": [
    "%%time\n",
    "forest.fit(X_train, y_train)"
   ]
  },
  {
   "cell_type": "code",
   "execution_count": 40,
   "metadata": {},
   "outputs": [],
   "source": [
    "forest_pred_probs = forest.predict_proba(X_valid)[:, 1]"
   ]
  },
  {
   "cell_type": "code",
   "execution_count": 67,
   "metadata": {},
   "outputs": [],
   "source": [
    "from sklearn.metrics import accuracy_score, precision_score, recall_score, roc_auc_score, f1_score"
   ]
  },
  {
   "cell_type": "code",
   "execution_count": 42,
   "metadata": {},
   "outputs": [
    {
     "data": {
      "text/plain": [
       "0.9644760596195973"
      ]
     },
     "execution_count": 42,
     "metadata": {},
     "output_type": "execute_result"
    }
   ],
   "source": [
    "roc_auc_score(y_valid, forest_pred_probs)"
   ]
  },
  {
   "cell_type": "code",
   "execution_count": 45,
   "metadata": {},
   "outputs": [
    {
     "data": {
      "text/plain": [
       "0.9879156301560214"
      ]
     },
     "execution_count": 45,
     "metadata": {},
     "output_type": "execute_result"
    }
   ],
   "source": [
    "accuracy_score(y_valid, X_valid['sum_payments8'] > 0)"
   ]
  },
  {
   "cell_type": "code",
   "execution_count": 47,
   "metadata": {},
   "outputs": [
    {
     "data": {
      "text/plain": [
       "0.9857308213692412"
      ]
     },
     "execution_count": 47,
     "metadata": {},
     "output_type": "execute_result"
    }
   ],
   "source": [
    "accuracy_score(y_valid, forest_pred_probs > 0.5)"
   ]
  },
  {
   "cell_type": "code",
   "execution_count": 48,
   "metadata": {},
   "outputs": [
    {
     "data": {
      "text/plain": [
       "(353349,)"
      ]
     },
     "execution_count": 48,
     "metadata": {},
     "output_type": "execute_result"
    }
   ],
   "source": [
    "y_valid.shape"
   ]
  },
  {
   "cell_type": "code",
   "execution_count": 50,
   "metadata": {},
   "outputs": [],
   "source": [
    "pred_df = pd.DataFrame({'true': y_valid, 'pred_forest': forest_pred_probs, \n",
    "             'pred_baseline': (X_valid['sum_payments8'] > 0).astype('int')})"
   ]
  },
  {
   "cell_type": "code",
   "execution_count": 51,
   "metadata": {},
   "outputs": [],
   "source": [
    "pred_df.sort_values(by='pred_forest', ascending=False, inplace=True)"
   ]
  },
  {
   "cell_type": "code",
   "execution_count": 52,
   "metadata": {},
   "outputs": [
    {
     "data": {
      "text/html": [
       "<div>\n",
       "<style scoped>\n",
       "    .dataframe tbody tr th:only-of-type {\n",
       "        vertical-align: middle;\n",
       "    }\n",
       "\n",
       "    .dataframe tbody tr th {\n",
       "        vertical-align: top;\n",
       "    }\n",
       "\n",
       "    .dataframe thead th {\n",
       "        text-align: right;\n",
       "    }\n",
       "</style>\n",
       "<table border=\"1\" class=\"dataframe\">\n",
       "  <thead>\n",
       "    <tr style=\"text-align: right;\">\n",
       "      <th></th>\n",
       "      <th>true</th>\n",
       "      <th>pred_forest</th>\n",
       "      <th>pred_baseline</th>\n",
       "    </tr>\n",
       "  </thead>\n",
       "  <tbody>\n",
       "    <tr>\n",
       "      <th>69935</th>\n",
       "      <td>1</td>\n",
       "      <td>1.0</td>\n",
       "      <td>1</td>\n",
       "    </tr>\n",
       "    <tr>\n",
       "      <th>23380</th>\n",
       "      <td>1</td>\n",
       "      <td>1.0</td>\n",
       "      <td>1</td>\n",
       "    </tr>\n",
       "    <tr>\n",
       "      <th>33460</th>\n",
       "      <td>1</td>\n",
       "      <td>1.0</td>\n",
       "      <td>1</td>\n",
       "    </tr>\n",
       "    <tr>\n",
       "      <th>80701</th>\n",
       "      <td>1</td>\n",
       "      <td>1.0</td>\n",
       "      <td>1</td>\n",
       "    </tr>\n",
       "    <tr>\n",
       "      <th>239</th>\n",
       "      <td>1</td>\n",
       "      <td>1.0</td>\n",
       "      <td>1</td>\n",
       "    </tr>\n",
       "  </tbody>\n",
       "</table>\n",
       "</div>"
      ],
      "text/plain": [
       "       true  pred_forest  pred_baseline\n",
       "69935     1          1.0              1\n",
       "23380     1          1.0              1\n",
       "33460     1          1.0              1\n",
       "80701     1          1.0              1\n",
       "239       1          1.0              1"
      ]
     },
     "execution_count": 52,
     "metadata": {},
     "output_type": "execute_result"
    }
   ],
   "source": [
    "pred_df.head(5)"
   ]
  },
  {
   "cell_type": "code",
   "execution_count": 55,
   "metadata": {},
   "outputs": [
    {
     "data": {
      "text/plain": [
       "6.2948480666721"
      ]
     },
     "execution_count": 55,
     "metadata": {},
     "output_type": "execute_result"
    }
   ],
   "source": [
    "pred_df.iloc[:50000]['true'].mean() / y_valid.mean()"
   ]
  },
  {
   "cell_type": "code",
   "execution_count": 61,
   "metadata": {},
   "outputs": [
    {
     "data": {
      "text/plain": [
       "5.871773911484229"
      ]
     },
     "execution_count": 61,
     "metadata": {},
     "output_type": "execute_result"
    }
   ],
   "source": [
    "pred_df.sort_values(by='pred_baseline', ascending=False).iloc[:50000]['true'].mean() / y_valid.mean()"
   ]
  },
  {
   "cell_type": "code",
   "execution_count": 63,
   "metadata": {},
   "outputs": [
    {
     "data": {
      "text/plain": [
       "(0.9613782658084059, 1.0)"
      ]
     },
     "execution_count": 63,
     "metadata": {},
     "output_type": "execute_result"
    }
   ],
   "source": [
    "precision_score(y_valid, forest_pred_probs > 0.5), \\\n",
    "    precision_score(y_valid, X_valid['sum_payments8'] > 0)"
   ]
  },
  {
   "cell_type": "code",
   "execution_count": 64,
   "metadata": {},
   "outputs": [
    {
     "data": {
      "text/plain": [
       "(0.8277773249653598, 0.825984187790366)"
      ]
     },
     "execution_count": 64,
     "metadata": {},
     "output_type": "execute_result"
    }
   ],
   "source": [
    "recall_score(y_valid, forest_pred_probs > 0.5), \\\n",
    "    recall_score(y_valid, X_valid['sum_payments8'] > 0)"
   ]
  },
  {
   "cell_type": "code",
   "execution_count": 68,
   "metadata": {},
   "outputs": [
    {
     "data": {
      "text/plain": [
       "(0.8895896290456795, 0.904700263357586)"
      ]
     },
     "execution_count": 68,
     "metadata": {},
     "output_type": "execute_result"
    }
   ],
   "source": [
    "f1_score(y_valid, forest_pred_probs > 0.5), \\\n",
    "    f1_score(y_valid, X_valid['sum_payments8'] > 0)"
   ]
  },
  {
   "cell_type": "code",
   "execution_count": null,
   "metadata": {},
   "outputs": [],
   "source": []
  },
  {
   "cell_type": "code",
   "execution_count": 77,
   "metadata": {},
   "outputs": [
    {
     "data": {
      "image/png": "[encoded data removed]",
      "text/plain": [
       "<Figure size 432x288 with 1 Axes>"
      ]
     },
     "metadata": {
      "needs_background": "light"
     },
     "output_type": "display_data"
    }
   ],
   "source": [
    "from sklearn.metrics import precision_recall_curve \n",
    "#from sklearn.utils.fixes import signature \n",
    "from funcsigs import signature\n",
    "precision, recall, thres = precision_recall_curve(y_valid, forest_pred_probs)\n",
    "step_kwargs = ({'step': 'post'}\n",
    "                if 'step' in signature(plt.fill_between).parameters \n",
    "                else {})\n",
    "plt.step(recall, precision, color='b', alpha=0.2, where='post')\n",
    "plt.fill_between(recall, precision, alpha=0.2, color='b', **step_kwargs)\n",
    "\n",
    "plt.xlabel('Recall')\n",
    "plt.ylabel('Precision')\n",
    "plt.ylim([0.0, 1.05])\n",
    "plt.hlines (y=0.5, xmin=0, xmax=1)\n",
    "plt.xlim( [0.0, 1.0]) \n",
    "plt.title ('2 -class Precision -Recall curve: Random Forest');"
   ]
  },
  {
   "cell_type": "code",
   "execution_count": null,
   "metadata": {},
   "outputs": [],
   "source": []
  },
  {
   "cell_type": "code",
   "execution_count": 71,
   "metadata": {},
   "outputs": [
    {
     "data": {
      "text/plain": [
       "(1.0, 0.8240280381449181)"
      ]
     },
     "execution_count": 71,
     "metadata": {},
     "output_type": "execute_result"
    }
   ],
   "source": [
    "tau = 0.95\n",
    "precision_score(y_valid, forest_pred_probs > tau), \\\n",
    "recall_score(y_valid, forest_pred_probs > tau)"
   ]
  },
  {
   "cell_type": "code",
   "execution_count": null,
   "metadata": {},
   "outputs": [],
   "source": []
  },
  {
   "cell_type": "code",
   "execution_count": 81,
   "metadata": {},
   "outputs": [
    {
     "data": {
      "text/plain": [
       "Text(0, 0.5, 'metric')"
      ]
     },
     "execution_count": 81,
     "metadata": {},
     "output_type": "execute_result"
    },
    {
     "data": {
      "image/png": "[encoded data removed]",
      "text/plain": [
       "<Figure size 432x288 with 1 Axes>"
      ]
     },
     "metadata": {
      "needs_background": "light"
     },
     "output_type": "display_data"
    }
   ],
   "source": [
    "plt.plot(thres, precision[:-1], label='precision')\n",
    "plt.plot(thres, recall[:-1], label='recall')\n",
    "plt.hlines(y=0.5, xmin=0, xmax=1, label='min. precision', linestyles='dashed')\n",
    "plt.vlines(x=0.194, ymin=0, ymax=1, color='red', label='opt. threshold', linestyles='dashed')\n",
    "plt.legend()\n",
    "plt.xlabel('threshold')\n",
    "plt.ylabel('metric')"
   ]
  },
  {
   "cell_type": "code",
   "execution_count": 80,
   "metadata": {},
   "outputs": [
    {
     "data": {
      "text/plain": [
       "(0.5011045309268659, 0.8689787268726058)"
      ]
     },
     "execution_count": 80,
     "metadata": {},
     "output_type": "execute_result"
    }
   ],
   "source": [
    "precision_score(y_valid, forest_pred_probs > 0.194), \\\n",
    "recall_score(y_valid, forest_pred_probs > 0.194)"
   ]
  },
  {
   "cell_type": "code",
   "execution_count": 82,
   "metadata": {},
   "outputs": [
    {
     "data": {
      "text/plain": [
       "(1.0, 0.825984187790366)"
      ]
     },
     "execution_count": 82,
     "metadata": {},
     "output_type": "execute_result"
    }
   ],
   "source": [
    "precision_score(y_valid, X_valid['sum_payments8'] > 0), \\\n",
    "recall_score(y_valid, X_valid['sum_payments8'] > 0)"
   ]
  },
  {
   "cell_type": "code",
   "execution_count": 84,
   "metadata": {},
   "outputs": [
    {
     "data": {
      "image/png": "[encoded data removed]",
      "text/plain": [
       "<Figure size 432x288 with 1 Axes>"
      ]
     },
     "metadata": {
      "needs_background": "light"
     },
     "output_type": "display_data"
    }
   ],
   "source": [
    "plt.hist(forest_pred_probs);"
   ]
  },
  {
   "cell_type": "markdown",
   "metadata": {},
   "source": [
    "#### Feature importance"
   ]
  },
  {
   "cell_type": "code",
   "execution_count": 90,
   "metadata": {},
   "outputs": [
    {
     "data": {
      "text/html": [
       "<div>\n",
       "<style scoped>\n",
       "    .dataframe tbody tr th:only-of-type {\n",
       "        vertical-align: middle;\n",
       "    }\n",
       "\n",
       "    .dataframe tbody tr th {\n",
       "        vertical-align: top;\n",
       "    }\n",
       "\n",
       "    .dataframe thead th {\n",
       "        text-align: right;\n",
       "    }\n",
       "</style>\n",
       "<table border=\"1\" class=\"dataframe\">\n",
       "  <thead>\n",
       "    <tr style=\"text-align: right;\">\n",
       "      <th></th>\n",
       "      <th>importance</th>\n",
       "    </tr>\n",
       "  </thead>\n",
       "  <tbody>\n",
       "    <tr>\n",
       "      <th>num_payments8</th>\n",
       "      <td>0.121069</td>\n",
       "    </tr>\n",
       "    <tr>\n",
       "      <th>sum_payments8</th>\n",
       "      <td>0.116459</td>\n",
       "    </tr>\n",
       "    <tr>\n",
       "      <th>sum_payments7</th>\n",
       "      <td>0.073057</td>\n",
       "    </tr>\n",
       "    <tr>\n",
       "      <th>num_payments7</th>\n",
       "      <td>0.072743</td>\n",
       "    </tr>\n",
       "    <tr>\n",
       "      <th>num_payments6</th>\n",
       "      <td>0.062400</td>\n",
       "    </tr>\n",
       "    <tr>\n",
       "      <th>sum_payments6</th>\n",
       "      <td>0.043248</td>\n",
       "    </tr>\n",
       "    <tr>\n",
       "      <th>launches8</th>\n",
       "      <td>0.040391</td>\n",
       "    </tr>\n",
       "    <tr>\n",
       "      <th>sessions8</th>\n",
       "      <td>0.040025</td>\n",
       "    </tr>\n",
       "    <tr>\n",
       "      <th>sum_payments5</th>\n",
       "      <td>0.037349</td>\n",
       "    </tr>\n",
       "    <tr>\n",
       "      <th>num_payments5</th>\n",
       "      <td>0.033809</td>\n",
       "    </tr>\n",
       "    <tr>\n",
       "      <th>launches7</th>\n",
       "      <td>0.029048</td>\n",
       "    </tr>\n",
       "    <tr>\n",
       "      <th>num_payments4</th>\n",
       "      <td>0.026428</td>\n",
       "    </tr>\n",
       "    <tr>\n",
       "      <th>sessions7</th>\n",
       "      <td>0.026063</td>\n",
       "    </tr>\n",
       "    <tr>\n",
       "      <th>launches6</th>\n",
       "      <td>0.021754</td>\n",
       "    </tr>\n",
       "    <tr>\n",
       "      <th>sessions6</th>\n",
       "      <td>0.021379</td>\n",
       "    </tr>\n",
       "    <tr>\n",
       "      <th>num_payments3</th>\n",
       "      <td>0.020429</td>\n",
       "    </tr>\n",
       "    <tr>\n",
       "      <th>sum_payments4</th>\n",
       "      <td>0.020208</td>\n",
       "    </tr>\n",
       "    <tr>\n",
       "      <th>launches5</th>\n",
       "      <td>0.018788</td>\n",
       "    </tr>\n",
       "    <tr>\n",
       "      <th>launches4</th>\n",
       "      <td>0.017219</td>\n",
       "    </tr>\n",
       "    <tr>\n",
       "      <th>sessions5</th>\n",
       "      <td>0.017003</td>\n",
       "    </tr>\n",
       "    <tr>\n",
       "      <th>launches2</th>\n",
       "      <td>0.015660</td>\n",
       "    </tr>\n",
       "    <tr>\n",
       "      <th>launches3</th>\n",
       "      <td>0.015499</td>\n",
       "    </tr>\n",
       "    <tr>\n",
       "      <th>sessions4</th>\n",
       "      <td>0.015423</td>\n",
       "    </tr>\n",
       "    <tr>\n",
       "      <th>sessions3</th>\n",
       "      <td>0.014648</td>\n",
       "    </tr>\n",
       "    <tr>\n",
       "      <th>sessions2</th>\n",
       "      <td>0.014125</td>\n",
       "    </tr>\n",
       "    <tr>\n",
       "      <th>launches1</th>\n",
       "      <td>0.013322</td>\n",
       "    </tr>\n",
       "    <tr>\n",
       "      <th>sessions1</th>\n",
       "      <td>0.012983</td>\n",
       "    </tr>\n",
       "    <tr>\n",
       "      <th>sum_payments3</th>\n",
       "      <td>0.012791</td>\n",
       "    </tr>\n",
       "    <tr>\n",
       "      <th>num_payments2</th>\n",
       "      <td>0.011719</td>\n",
       "    </tr>\n",
       "    <tr>\n",
       "      <th>sum_payments2</th>\n",
       "      <td>0.007296</td>\n",
       "    </tr>\n",
       "    <tr>\n",
       "      <th>num_payments1</th>\n",
       "      <td>0.004784</td>\n",
       "    </tr>\n",
       "    <tr>\n",
       "      <th>sum_payments1</th>\n",
       "      <td>0.002883</td>\n",
       "    </tr>\n",
       "  </tbody>\n",
       "</table>\n",
       "</div>"
      ],
      "text/plain": [
       "               importance\n",
       "num_payments8    0.121069\n",
       "sum_payments8    0.116459\n",
       "sum_payments7    0.073057\n",
       "num_payments7    0.072743\n",
       "num_payments6    0.062400\n",
       "sum_payments6    0.043248\n",
       "launches8        0.040391\n",
       "sessions8        0.040025\n",
       "sum_payments5    0.037349\n",
       "num_payments5    0.033809\n",
       "launches7        0.029048\n",
       "num_payments4    0.026428\n",
       "sessions7        0.026063\n",
       "launches6        0.021754\n",
       "sessions6        0.021379\n",
       "num_payments3    0.020429\n",
       "sum_payments4    0.020208\n",
       "launches5        0.018788\n",
       "launches4        0.017219\n",
       "sessions5        0.017003\n",
       "launches2        0.015660\n",
       "launches3        0.015499\n",
       "sessions4        0.015423\n",
       "sessions3        0.014648\n",
       "sessions2        0.014125\n",
       "launches1        0.013322\n",
       "sessions1        0.012983\n",
       "sum_payments3    0.012791\n",
       "num_payments2    0.011719\n",
       "sum_payments2    0.007296\n",
       "num_payments1    0.004784\n",
       "sum_payments1    0.002883"
      ]
     },
     "execution_count": 90,
     "metadata": {},
     "output_type": "execute_result"
    }
   ],
   "source": [
    "pd.DataFrame(forest.feature_importances_, index=X_train.columns,\n",
    "             columns=['importance']).sort_values(by='importance', ascending=False)"
   ]
  },
  {
   "cell_type": "code",
   "execution_count": 91,
   "metadata": {},
   "outputs": [],
   "source": [
    "from sklearn.metrics import confusion_matrix"
   ]
  },
  {
   "cell_type": "code",
   "execution_count": 92,
   "metadata": {},
   "outputs": [],
   "source": [
    "def plot_confusion_matrix(actual, predicted, classes,\n",
    "                          normalize=False,\n",
    "                          title='Confusion matrix', figsize=(7,7),\n",
    "                          cmap=plt.cm.Blues, path_to_save_fig=None):\n",
    "    \"\"\"\n",
    "    This function prints and plots the confusion matrix.\n",
    "    Normalization can be applied by setting `normalize=True`.\n",
    "    \"\"\"\n",
    "    cm = confusion_matrix(actual, predicted).T\n",
    "    if normalize:\n",
    "        cm = cm.astype('float') / cm.sum(axis=1)[:, np.newaxis]\n",
    "    \n",
    "    plt.figure(figsize=figsize)\n",
    "    plt.imshow(cm, interpolation='nearest', cmap=cmap)\n",
    "    plt.title(title)\n",
    "    plt.colorbar()\n",
    "    tick_marks = np.arange(len(classes))\n",
    "    plt.xticks(tick_marks, classes, rotation=90)\n",
    "    plt.yticks(tick_marks, classes)\n",
    "\n",
    "    fmt = '.2f' if normalize else 'd'\n",
    "    thresh = cm.max() / 2.\n",
    "    for i, j in itertools.product(range(cm.shape[0]), range(cm.shape[1])):\n",
    "        plt.text(j, i, format(cm[i, j], fmt),\n",
    "                 horizontalalignment=\"center\",\n",
    "                 color=\"white\" if cm[i, j] > thresh else \"black\")\n",
    "\n",
    "    plt.tight_layout()\n",
    "    plt.ylabel('Predicted label')\n",
    "    plt.xlabel('True label')\n",
    "    \n",
    "    if path_to_save_fig:\n",
    "        plt.savefig(path_to_save_fig, dpi=300, bbox_inches='tight')"
   ]
  },
  {
   "cell_type": "code",
   "execution_count": 93,
   "metadata": {},
   "outputs": [
    {
     "data": {
      "image/png": "[encoded data removed]",
      "text/plain": [
       "<Figure size 504x504 with 2 Axes>"
      ]
     },
     "metadata": {
      "needs_background": "light"
     },
     "output_type": "display_data"
    }
   ],
   "source": [
    "plot_confusion_matrix(actual=y_valid, predicted=X_valid['sum_payments8'] > 0,\n",
    "                     classes=forest.classes_)"
   ]
  },
  {
   "cell_type": "code",
   "execution_count": 94,
   "metadata": {},
   "outputs": [
    {
     "data": {
      "image/png": "[encoded data removed]",
      "text/plain": [
       "<Figure size 504x504 with 2 Axes>"
      ]
     },
     "metadata": {
      "needs_background": "light"
     },
     "output_type": "display_data"
    }
   ],
   "source": [
    "plot_confusion_matrix(actual=y_valid, predicted=(forest_pred_probs > 0.5),\n",
    "                     classes=forest.classes_)"
   ]
  },
  {
   "cell_type": "code",
   "execution_count": 95,
   "metadata": {},
   "outputs": [
    {
     "data": {
      "image/png": "[encoded data removed]",
      "text/plain": [
       "<Figure size 504x504 with 2 Axes>"
      ]
     },
     "metadata": {
      "needs_background": "light"
     },
     "output_type": "display_data"
    }
   ],
   "source": [
    "plot_confusion_matrix(actual=y_valid, predicted=(forest_pred_probs > 0.194),\n",
    "                     classes=forest.classes_)"
   ]
  },
  {
   "cell_type": "markdown",
   "metadata": {},
   "source": [
    "## Logistic regression"
   ]
  },
  {
   "cell_type": "code",
   "execution_count": 96,
   "metadata": {},
   "outputs": [],
   "source": [
    "from sklearn.preprocessing import StandardScaler"
   ]
  },
  {
   "cell_type": "code",
   "execution_count": 97,
   "metadata": {},
   "outputs": [],
   "source": [
    "logit = LogisticRegression(n_jobs=4, random_state=17, \n",
    "                           class_weight='balanced', solver='sag')"
   ]
  },
  {
   "cell_type": "code",
   "execution_count": 98,
   "metadata": {},
   "outputs": [],
   "source": [
    "scaler = StandardScaler()"
   ]
  },
  {
   "cell_type": "code",
   "execution_count": 99,
   "metadata": {},
   "outputs": [],
   "source": [
    "X_train_scaled = scaler.fit_transform(X_train)\n",
    "X_valid_scaled = scaler.transform(X_valid)"
   ]
  },
  {
   "cell_type": "code",
   "execution_count": 100,
   "metadata": {},
   "outputs": [
    {
     "name": "stdout",
     "output_type": "stream",
     "text": [
      "Wall time: 53.2 s\n"
     ]
    },
    {
     "name": "stderr",
     "output_type": "stream",
     "text": [
      "C:\\Programming\\Anaconda\\envs\\BigData\\lib\\site-packages\\sklearn\\linear_model\\_sag.py:329: ConvergenceWarning: The max_iter was reached which means the coef_ did not converge\n",
      "  warnings.warn(\"The max_iter was reached which means \"\n"
     ]
    },
    {
     "data": {
      "text/plain": [
       "LogisticRegression(class_weight='balanced', n_jobs=4, random_state=17,\n",
       "                   solver='sag')"
      ]
     },
     "execution_count": 100,
     "metadata": {},
     "output_type": "execute_result"
    }
   ],
   "source": [
    "%%time\n",
    "logit.fit(X_train_scaled, y_train)"
   ]
  },
  {
   "cell_type": "code",
   "execution_count": 101,
   "metadata": {},
   "outputs": [],
   "source": [
    "logit_pred_probs = logit.predict_proba(X_valid_scaled)[:, 1]"
   ]
  },
  {
   "cell_type": "code",
   "execution_count": 102,
   "metadata": {},
   "outputs": [
    {
     "data": {
      "image/png": "[encoded data removed]",
      "text/plain": [
       "<Figure size 432x288 with 1 Axes>"
      ]
     },
     "metadata": {
      "needs_background": "light"
     },
     "output_type": "display_data"
    }
   ],
   "source": [
    "plt.hist(logit_pred_probs);"
   ]
  },
  {
   "cell_type": "code",
   "execution_count": 103,
   "metadata": {},
   "outputs": [
    {
     "data": {
      "text/plain": [
       "0.9764940094392004"
      ]
     },
     "execution_count": 103,
     "metadata": {},
     "output_type": "execute_result"
    }
   ],
   "source": [
    "roc_auc_score(y_valid, logit_pred_probs)"
   ]
  },
  {
   "cell_type": "code",
   "execution_count": null,
   "metadata": {},
   "outputs": [],
   "source": []
  }
 ],
 "metadata": {
  "kernelspec": {
   "display_name": "Python 3",
   "language": "python",
   "name": "python3"
  },
  "language_info": {
   "codemirror_mode": {
    "name": "ipython",
    "version": 3
   },
   "file_extension": ".py",
   "mimetype": "text/x-python",
   "name": "python",
   "nbconvert_exporter": "python",
   "pygments_lexer": "ipython3",
   "version": "3.8.5"
  }
 },
 "nbformat": 4,
 "nbformat_minor": 4
}
